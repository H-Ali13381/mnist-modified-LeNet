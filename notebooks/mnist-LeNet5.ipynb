{
 "cells": [
  {
   "cell_type": "code",
   "execution_count": 30,
   "metadata": {
    "_cell_guid": "b1076dfc-b9ad-4769-8c92-a6c4dae69d19",
    "_uuid": "8f2839f25d086af736a60e9eeb907d3b93b6e0e5"
   },
   "outputs": [],
   "source": [
    "import numpy as np\n",
    "import pandas as pd\n",
    "\n",
    "import matplotlib.pyplot as plt\n",
    "#import optuna\n",
    "import pickle\n",
    "\n",
    "import torch\n",
    "import torch.nn as nn\n",
    "import torch.optim as optim\n",
    "from torch.utils.data import DataLoader, Dataset\n",
    "from torchvision import datasets, transforms\n",
    "\n",
    "if torch.cuda.is_available():\n",
    "    device = torch.device(\"cuda:0\")\n",
    "else:\n",
    "    device = torch.device(\"cpu\")"
   ]
  },
  {
   "cell_type": "code",
   "execution_count": 2,
   "metadata": {},
   "outputs": [],
   "source": [
    "# Image display func\n",
    "def show_image(img):\n",
    "    plt.imshow(img, cmap='binary')"
   ]
  },
  {
   "cell_type": "code",
   "execution_count": 3,
   "metadata": {},
   "outputs": [],
   "source": [
    "# Define data transformations (e.g., normalization, augmentation)\n",
    "transform = transforms.Compose([\n",
    "    transforms.ToTensor()\n",
    "])\n",
    "\n",
    "# Loading MNIST\n",
    "train_dataset = datasets.MNIST(root='../data/', train=True, download=False, transform=transform)\n",
    "test_dataset = datasets.MNIST(root='../data/', train=False, download=False, transform=transform)\n",
    "\n",
    "# Create DataLoader for batching\n",
    "train_loader = DataLoader(train_dataset, batch_size=64, shuffle=True)\n",
    "test_loader = DataLoader(test_dataset, batch_size=64, shuffle=False)"
   ]
  },
  {
   "cell_type": "code",
   "execution_count": 4,
   "metadata": {},
   "outputs": [
    {
     "data": {
      "image/png": "[encoded data removed]",
      "text/plain": [
       "<Figure size 640x480 with 1 Axes>"
      ]
     },
     "metadata": {},
     "output_type": "display_data"
    }
   ],
   "source": [
    "show_image(train_dataset[0][0][0])"
   ]
  },
  {
   "cell_type": "code",
   "execution_count": 5,
   "metadata": {},
   "outputs": [],
   "source": [
    "torch.manual_seed(0)\n",
    "\n",
    "# Using modified LeNet-5 architecture\n",
    "\n",
    "class LeNet(nn.Module):\n",
    "    def __init__(self):\n",
    "        super(LeNet, self).__init__()\n",
    "        \n",
    "        self.conv_block = nn.Sequential(\n",
    "            nn.Conv2d(in_channels=1,\n",
    "                            out_channels=6,\n",
    "                            kernel_size=5,\n",
    "                            stride=1), nn.ReLU(),\n",
    "            nn.AvgPool2d(kernel_size=2,\n",
    "                               stride=2),\n",
    "            nn.Conv2d(in_channels=6,\n",
    "                            out_channels=16,\n",
    "                            kernel_size=5,\n",
    "                            stride=1), nn.ReLU(),\n",
    "            nn.AvgPool2d(kernel_size=2,\n",
    "                               stride=2,\n",
    "                               padding=1),\n",
    "            nn.Conv2d(in_channels=16,\n",
    "                            out_channels=120,\n",
    "                            kernel_size=5,\n",
    "                            stride=1), nn.ReLU(),\n",
    "        )\n",
    "        self.linear_block = nn.Sequential(\n",
    "            nn.Linear(120,84),\n",
    "            nn.ReLU(),\n",
    "            nn.Linear(84,10),\n",
    "            nn.Softmax(1)\n",
    "        )\n",
    "\n",
    "    def forward(self, x):\n",
    "        x = self.conv_block(x)\n",
    "        x = torch.flatten(x, 1)\n",
    "        x = self.linear_block(x)\n",
    "        return x"
   ]
  },
  {
   "cell_type": "code",
   "execution_count": 6,
   "metadata": {},
   "outputs": [
    {
     "name": "stdout",
     "output_type": "stream",
     "text": [
      "LeNet(\n",
      "  (conv_block): Sequential(\n",
      "    (0): Conv2d(1, 6, kernel_size=(5, 5), stride=(1, 1))\n",
      "    (1): ReLU()\n",
      "    (2): AvgPool2d(kernel_size=2, stride=2, padding=0)\n",
      "    (3): Conv2d(6, 16, kernel_size=(5, 5), stride=(1, 1))\n",
      "    (4): ReLU()\n",
      "    (5): AvgPool2d(kernel_size=2, stride=2, padding=1)\n",
      "    (6): Conv2d(16, 120, kernel_size=(5, 5), stride=(1, 1))\n",
      "    (7): ReLU()\n",
      "  )\n",
      "  (linear_block): Sequential(\n",
      "    (0): Linear(in_features=120, out_features=84, bias=True)\n",
      "    (1): ReLU()\n",
      "    (2): Linear(in_features=84, out_features=10, bias=True)\n",
      "    (3): Softmax(dim=1)\n",
      "  )\n",
      ")\n"
     ]
    }
   ],
   "source": [
    "model = LeNet().to(device)\n",
    "print(model)"
   ]
  },
  {
   "cell_type": "code",
   "execution_count": 7,
   "metadata": {},
   "outputs": [],
   "source": [
    "# Loss function and Optimizer\n",
    "criterion = torch.nn.CrossEntropyLoss()\n",
    "optimizer = torch.optim.SGD(model.parameters(), lr=0.03)\n",
    "num_epochs = 500\n",
    "loss_values = []"
   ]
  },
  {
   "cell_type": "code",
   "execution_count": 8,
   "metadata": {
    "scrolled": true
   },
   "outputs": [
    {
     "name": "stdout",
     "output_type": "stream",
     "text": [
      "Epoch 1/500, Loss: 2.3026\n",
      "Epoch 2/500, Loss: 2.3024\n",
      "Epoch 3/500, Loss: 2.3022\n",
      "Epoch 4/500, Loss: 2.3020\n",
      "Epoch 5/500, Loss: 2.3017\n",
      "Epoch 6/500, Loss: 2.3012\n",
      "Epoch 7/500, Loss: 2.2999\n",
      "Epoch 8/500, Loss: 2.2883\n",
      "Epoch 9/500, Loss: 1.9114\n",
      "Epoch 10/500, Loss: 1.8151\n",
      "Epoch 11/500, Loss: 1.8044\n",
      "Epoch 12/500, Loss: 1.7666\n",
      "Epoch 13/500, Loss: 1.7143\n",
      "Epoch 14/500, Loss: 1.7069\n",
      "Epoch 15/500, Loss: 1.7020\n",
      "Epoch 16/500, Loss: 1.6985\n",
      "Epoch 17/500, Loss: 1.6946\n",
      "Epoch 18/500, Loss: 1.6918\n",
      "Epoch 19/500, Loss: 1.6893\n",
      "Epoch 20/500, Loss: 1.6864\n",
      "Epoch 21/500, Loss: 1.6227\n",
      "Epoch 22/500, Loss: 1.6053\n",
      "Epoch 23/500, Loss: 1.5995\n",
      "Epoch 24/500, Loss: 1.5958\n",
      "Epoch 25/500, Loss: 1.5585\n",
      "Epoch 26/500, Loss: 1.5220\n",
      "Epoch 27/500, Loss: 1.5138\n",
      "Epoch 28/500, Loss: 1.5080\n",
      "Epoch 29/500, Loss: 1.5039\n",
      "Epoch 30/500, Loss: 1.5004\n",
      "Epoch 31/500, Loss: 1.4980\n",
      "Epoch 32/500, Loss: 1.4957\n",
      "Epoch 33/500, Loss: 1.4939\n",
      "Epoch 34/500, Loss: 1.4923\n",
      "Epoch 35/500, Loss: 1.4913\n",
      "Epoch 36/500, Loss: 1.4898\n",
      "Epoch 37/500, Loss: 1.4885\n",
      "Epoch 38/500, Loss: 1.4872\n",
      "Epoch 39/500, Loss: 1.4868\n",
      "Epoch 40/500, Loss: 1.4855\n",
      "Epoch 41/500, Loss: 1.4851\n",
      "Epoch 42/500, Loss: 1.4841\n",
      "Epoch 43/500, Loss: 1.4834\n",
      "Epoch 44/500, Loss: 1.4833\n",
      "Epoch 45/500, Loss: 1.4823\n",
      "Epoch 46/500, Loss: 1.4818\n",
      "Epoch 47/500, Loss: 1.4809\n",
      "Epoch 48/500, Loss: 1.4806\n",
      "Epoch 49/500, Loss: 1.4801\n",
      "Epoch 50/500, Loss: 1.4799\n",
      "Epoch 51/500, Loss: 1.4793\n",
      "Epoch 52/500, Loss: 1.4790\n",
      "Epoch 53/500, Loss: 1.4784\n",
      "Epoch 54/500, Loss: 1.4778\n",
      "Epoch 55/500, Loss: 1.4777\n",
      "Epoch 56/500, Loss: 1.4771\n",
      "Epoch 57/500, Loss: 1.4767\n",
      "Epoch 58/500, Loss: 1.4767\n",
      "Epoch 59/500, Loss: 1.4762\n",
      "Epoch 60/500, Loss: 1.4759\n",
      "Epoch 61/500, Loss: 1.4756\n",
      "Epoch 62/500, Loss: 1.4754\n",
      "Epoch 63/500, Loss: 1.4749\n",
      "Epoch 64/500, Loss: 1.4744\n",
      "Epoch 65/500, Loss: 1.4742\n",
      "Epoch 66/500, Loss: 1.4741\n",
      "Epoch 67/500, Loss: 1.4738\n",
      "Epoch 68/500, Loss: 1.4737\n",
      "Epoch 69/500, Loss: 1.4734\n",
      "Epoch 70/500, Loss: 1.4728\n",
      "Epoch 71/500, Loss: 1.4727\n",
      "Epoch 72/500, Loss: 1.4730\n",
      "Epoch 73/500, Loss: 1.4725\n",
      "Epoch 74/500, Loss: 1.4724\n",
      "Epoch 75/500, Loss: 1.4724\n",
      "Epoch 76/500, Loss: 1.4720\n",
      "Epoch 77/500, Loss: 1.4718\n",
      "Epoch 78/500, Loss: 1.4718\n",
      "Epoch 79/500, Loss: 1.4714\n",
      "Epoch 80/500, Loss: 1.4713\n",
      "Epoch 81/500, Loss: 1.4710\n",
      "Epoch 82/500, Loss: 1.4710\n",
      "Epoch 83/500, Loss: 1.4706\n",
      "Epoch 84/500, Loss: 1.4708\n",
      "Epoch 85/500, Loss: 1.4705\n",
      "Epoch 86/500, Loss: 1.4704\n",
      "Epoch 87/500, Loss: 1.4705\n",
      "Epoch 88/500, Loss: 1.4700\n",
      "Epoch 89/500, Loss: 1.4701\n",
      "Epoch 90/500, Loss: 1.4699\n",
      "Epoch 91/500, Loss: 1.4694\n",
      "Epoch 92/500, Loss: 1.4695\n",
      "Epoch 93/500, Loss: 1.4699\n",
      "Epoch 94/500, Loss: 1.4690\n",
      "Epoch 95/500, Loss: 1.4690\n",
      "Epoch 96/500, Loss: 1.4690\n",
      "Epoch 97/500, Loss: 1.4691\n",
      "Epoch 98/500, Loss: 1.4691\n",
      "Epoch 99/500, Loss: 1.4688\n",
      "Epoch 100/500, Loss: 1.4689\n",
      "Epoch 101/500, Loss: 1.4684\n",
      "Epoch 102/500, Loss: 1.4687\n",
      "Epoch 103/500, Loss: 1.4684\n",
      "Epoch 104/500, Loss: 1.4684\n",
      "Epoch 105/500, Loss: 1.4682\n",
      "Epoch 106/500, Loss: 1.4682\n",
      "Epoch 107/500, Loss: 1.4680\n",
      "Epoch 108/500, Loss: 1.4678\n",
      "Epoch 109/500, Loss: 1.4679\n",
      "Epoch 110/500, Loss: 1.4679\n",
      "Epoch 111/500, Loss: 1.4680\n",
      "Epoch 112/500, Loss: 1.4677\n",
      "Epoch 113/500, Loss: 1.4674\n",
      "Epoch 114/500, Loss: 1.4675\n",
      "Epoch 115/500, Loss: 1.4675\n",
      "Epoch 116/500, Loss: 1.4673\n",
      "Epoch 117/500, Loss: 1.4672\n",
      "Epoch 118/500, Loss: 1.4672\n",
      "Epoch 119/500, Loss: 1.4670\n",
      "Epoch 120/500, Loss: 1.4671\n",
      "Epoch 121/500, Loss: 1.4670\n",
      "Epoch 122/500, Loss: 1.4671\n",
      "Epoch 123/500, Loss: 1.4670\n",
      "Epoch 124/500, Loss: 1.4668\n",
      "Epoch 125/500, Loss: 1.4669\n",
      "Epoch 126/500, Loss: 1.4666\n",
      "Epoch 127/500, Loss: 1.4667\n",
      "Epoch 128/500, Loss: 1.4666\n",
      "Epoch 129/500, Loss: 1.4666\n",
      "Epoch 130/500, Loss: 1.4668\n",
      "Epoch 131/500, Loss: 1.4668\n",
      "Epoch 132/500, Loss: 1.4665\n",
      "Epoch 133/500, Loss: 1.4666\n",
      "Epoch 134/500, Loss: 1.4666\n",
      "Epoch 135/500, Loss: 1.4665\n",
      "Epoch 136/500, Loss: 1.4664\n",
      "Epoch 137/500, Loss: 1.4666\n",
      "Epoch 138/500, Loss: 1.4665\n",
      "Epoch 139/500, Loss: 1.4663\n",
      "Epoch 140/500, Loss: 1.4664\n",
      "Epoch 141/500, Loss: 1.4665\n",
      "Epoch 142/500, Loss: 1.4662\n",
      "Epoch 143/500, Loss: 1.4662\n",
      "Epoch 144/500, Loss: 1.4663\n",
      "Epoch 145/500, Loss: 1.4663\n",
      "Epoch 146/500, Loss: 1.4663\n",
      "Epoch 147/500, Loss: 1.4663\n",
      "Epoch 148/500, Loss: 1.4662\n",
      "Epoch 149/500, Loss: 1.4664\n",
      "Epoch 150/500, Loss: 1.4663\n",
      "Epoch 151/500, Loss: 1.4662\n",
      "Epoch 152/500, Loss: 1.4661\n"
     ]
    },
    {
     "ename": "KeyboardInterrupt",
     "evalue": "",
     "output_type": "error",
     "traceback": [
      "\u001b[1;31m---------------------------------------------------------------------------\u001b[0m",
      "\u001b[1;31mKeyboardInterrupt\u001b[0m                         Traceback (most recent call last)",
      "Cell \u001b[1;32mIn[8], line 14\u001b[0m\n\u001b[0;32m     11\u001b[0m loss \u001b[38;5;241m=\u001b[39m criterion(outputs, labels)\n\u001b[0;32m     13\u001b[0m \u001b[38;5;66;03m# Backprop\u001b[39;00m\n\u001b[1;32m---> 14\u001b[0m \u001b[43mloss\u001b[49m\u001b[38;5;241;43m.\u001b[39;49m\u001b[43mbackward\u001b[49m\u001b[43m(\u001b[49m\u001b[43m)\u001b[49m\n\u001b[0;32m     15\u001b[0m optimizer\u001b[38;5;241m.\u001b[39mstep()\n\u001b[0;32m     17\u001b[0m \u001b[38;5;66;03m# Accumulate loss\u001b[39;00m\n",
      "File \u001b[1;32m~\\.conda\\envs\\pytorch\\Lib\\site-packages\\torch\\_tensor.py:581\u001b[0m, in \u001b[0;36mTensor.backward\u001b[1;34m(self, gradient, retain_graph, create_graph, inputs)\u001b[0m\n\u001b[0;32m    571\u001b[0m \u001b[38;5;28;01mif\u001b[39;00m has_torch_function_unary(\u001b[38;5;28mself\u001b[39m):\n\u001b[0;32m    572\u001b[0m     \u001b[38;5;28;01mreturn\u001b[39;00m handle_torch_function(\n\u001b[0;32m    573\u001b[0m         Tensor\u001b[38;5;241m.\u001b[39mbackward,\n\u001b[0;32m    574\u001b[0m         (\u001b[38;5;28mself\u001b[39m,),\n\u001b[1;32m   (...)\u001b[0m\n\u001b[0;32m    579\u001b[0m         inputs\u001b[38;5;241m=\u001b[39minputs,\n\u001b[0;32m    580\u001b[0m     )\n\u001b[1;32m--> 581\u001b[0m \u001b[43mtorch\u001b[49m\u001b[38;5;241;43m.\u001b[39;49m\u001b[43mautograd\u001b[49m\u001b[38;5;241;43m.\u001b[39;49m\u001b[43mbackward\u001b[49m\u001b[43m(\u001b[49m\n\u001b[0;32m    582\u001b[0m \u001b[43m    \u001b[49m\u001b[38;5;28;43mself\u001b[39;49m\u001b[43m,\u001b[49m\u001b[43m \u001b[49m\u001b[43mgradient\u001b[49m\u001b[43m,\u001b[49m\u001b[43m \u001b[49m\u001b[43mretain_graph\u001b[49m\u001b[43m,\u001b[49m\u001b[43m \u001b[49m\u001b[43mcreate_graph\u001b[49m\u001b[43m,\u001b[49m\u001b[43m \u001b[49m\u001b[43minputs\u001b[49m\u001b[38;5;241;43m=\u001b[39;49m\u001b[43minputs\u001b[49m\n\u001b[0;32m    583\u001b[0m \u001b[43m\u001b[49m\u001b[43m)\u001b[49m\n",
      "File \u001b[1;32m~\\.conda\\envs\\pytorch\\Lib\\site-packages\\torch\\autograd\\__init__.py:347\u001b[0m, in \u001b[0;36mbackward\u001b[1;34m(tensors, grad_tensors, retain_graph, create_graph, grad_variables, inputs)\u001b[0m\n\u001b[0;32m    342\u001b[0m     retain_graph \u001b[38;5;241m=\u001b[39m create_graph\n\u001b[0;32m    344\u001b[0m \u001b[38;5;66;03m# The reason we repeat the same comment below is that\u001b[39;00m\n\u001b[0;32m    345\u001b[0m \u001b[38;5;66;03m# some Python versions print out the first line of a multi-line function\u001b[39;00m\n\u001b[0;32m    346\u001b[0m \u001b[38;5;66;03m# calls in the traceback and some print out the last line\u001b[39;00m\n\u001b[1;32m--> 347\u001b[0m \u001b[43m_engine_run_backward\u001b[49m\u001b[43m(\u001b[49m\n\u001b[0;32m    348\u001b[0m \u001b[43m    \u001b[49m\u001b[43mtensors\u001b[49m\u001b[43m,\u001b[49m\n\u001b[0;32m    349\u001b[0m \u001b[43m    \u001b[49m\u001b[43mgrad_tensors_\u001b[49m\u001b[43m,\u001b[49m\n\u001b[0;32m    350\u001b[0m \u001b[43m    \u001b[49m\u001b[43mretain_graph\u001b[49m\u001b[43m,\u001b[49m\n\u001b[0;32m    351\u001b[0m \u001b[43m    \u001b[49m\u001b[43mcreate_graph\u001b[49m\u001b[43m,\u001b[49m\n\u001b[0;32m    352\u001b[0m \u001b[43m    \u001b[49m\u001b[43minputs\u001b[49m\u001b[43m,\u001b[49m\n\u001b[0;32m    353\u001b[0m \u001b[43m    \u001b[49m\u001b[43mallow_unreachable\u001b[49m\u001b[38;5;241;43m=\u001b[39;49m\u001b[38;5;28;43;01mTrue\u001b[39;49;00m\u001b[43m,\u001b[49m\n\u001b[0;32m    354\u001b[0m \u001b[43m    \u001b[49m\u001b[43maccumulate_grad\u001b[49m\u001b[38;5;241;43m=\u001b[39;49m\u001b[38;5;28;43;01mTrue\u001b[39;49;00m\u001b[43m,\u001b[49m\n\u001b[0;32m    355\u001b[0m \u001b[43m\u001b[49m\u001b[43m)\u001b[49m\n",
      "File \u001b[1;32m~\\.conda\\envs\\pytorch\\Lib\\site-packages\\torch\\autograd\\graph.py:825\u001b[0m, in \u001b[0;36m_engine_run_backward\u001b[1;34m(t_outputs, *args, **kwargs)\u001b[0m\n\u001b[0;32m    823\u001b[0m     unregister_hooks \u001b[38;5;241m=\u001b[39m _register_logging_hooks_on_whole_graph(t_outputs)\n\u001b[0;32m    824\u001b[0m \u001b[38;5;28;01mtry\u001b[39;00m:\n\u001b[1;32m--> 825\u001b[0m     \u001b[38;5;28;01mreturn\u001b[39;00m \u001b[43mVariable\u001b[49m\u001b[38;5;241;43m.\u001b[39;49m\u001b[43m_execution_engine\u001b[49m\u001b[38;5;241;43m.\u001b[39;49m\u001b[43mrun_backward\u001b[49m\u001b[43m(\u001b[49m\u001b[43m  \u001b[49m\u001b[38;5;66;43;03m# Calls into the C++ engine to run the backward pass\u001b[39;49;00m\n\u001b[0;32m    826\u001b[0m \u001b[43m        \u001b[49m\u001b[43mt_outputs\u001b[49m\u001b[43m,\u001b[49m\u001b[43m \u001b[49m\u001b[38;5;241;43m*\u001b[39;49m\u001b[43margs\u001b[49m\u001b[43m,\u001b[49m\u001b[43m \u001b[49m\u001b[38;5;241;43m*\u001b[39;49m\u001b[38;5;241;43m*\u001b[39;49m\u001b[43mkwargs\u001b[49m\n\u001b[0;32m    827\u001b[0m \u001b[43m    \u001b[49m\u001b[43m)\u001b[49m  \u001b[38;5;66;03m# Calls into the C++ engine to run the backward pass\u001b[39;00m\n\u001b[0;32m    828\u001b[0m \u001b[38;5;28;01mfinally\u001b[39;00m:\n\u001b[0;32m    829\u001b[0m     \u001b[38;5;28;01mif\u001b[39;00m attach_logging_hooks:\n",
      "\u001b[1;31mKeyboardInterrupt\u001b[0m: "
     ]
    }
   ],
   "source": [
    "# Training loop\n",
    "for epoch in range(num_epochs):\n",
    "    running_loss = 0.0\n",
    "    for inputs, labels in train_loader:\n",
    "        \n",
    "        # Zero the gradients\n",
    "        optimizer.zero_grad()\n",
    "        \n",
    "        # Feed-forward\n",
    "        outputs = model(inputs)\n",
    "        loss = criterion(outputs, labels)\n",
    "        \n",
    "        # Backprop\n",
    "        loss.backward()\n",
    "        optimizer.step()\n",
    "        \n",
    "        # Accumulate loss\n",
    "        running_loss += loss.item()\n",
    "    \n",
    "    # Average loss for the epoch\n",
    "    avg_loss = running_loss / len(train_loader)\n",
    "    \n",
    "    # Append the loss for this epoch to the list\n",
    "    loss_values.append(avg_loss)\n",
    "    \n",
    "    # Optionally, print the loss for this epoch\n",
    "    print(f\"Epoch {epoch+1}/{num_epochs}, Loss: {avg_loss:.4f}\")"
   ]
  },
  {
   "cell_type": "code",
   "execution_count": 10,
   "metadata": {},
   "outputs": [],
   "source": [
    "# Interrupted training early since it stopped improving"
   ]
  },
  {
   "cell_type": "code",
   "execution_count": 9,
   "metadata": {},
   "outputs": [
    {
     "data": {
      "image/png": "[encoded data removed]",
      "text/plain": [
       "<Figure size 640x480 with 1 Axes>"
      ]
     },
     "metadata": {},
     "output_type": "display_data"
    }
   ],
   "source": [
    "# Evaluation\n",
    "plt.plot(loss_values)\n",
    "plt.xlabel('Epoch')\n",
    "plt.ylabel('Loss')\n",
    "plt.title('Training Loss Curve')\n",
    "plt.show()"
   ]
  },
  {
   "cell_type": "code",
   "execution_count": 26,
   "metadata": {},
   "outputs": [
    {
     "name": "stdout",
     "output_type": "stream",
     "text": [
      "Accuracy of the network on the test dataset: 98.47%\n"
     ]
    }
   ],
   "source": [
    "model.eval()  # Set model to evaluation mode\n",
    "correct = 0\n",
    "total = 0\n",
    "\n",
    "with torch.no_grad():\n",
    "    for data in test_loader:\n",
    "        images, labels = data\n",
    "        images, labels = images.to(device), labels.to(device)\n",
    "        outputs = model(images)\n",
    "        \n",
    "        _, predicted = torch.max(outputs, 1)\n",
    "        \n",
    "        # Counting total samples and correct predictions\n",
    "        total += labels.size(0)\n",
    "        correct += (predicted == labels).sum().item()\n",
    "\n",
    "# Calculating accuracy\n",
    "accuracy = 100 * correct / total\n",
    "print(f'Accuracy of the network on the test dataset: {accuracy:.2f}%')"
   ]
  },
  {
   "cell_type": "code",
   "execution_count": 27,
   "metadata": {
    "scrolled": true
   },
   "outputs": [],
   "source": [
    "#checking weights\n",
    "#for name, module in model.named_modules():\n",
    "#    if isinstance(module, torch.nn.Conv2d):\n",
    "#        print(f\"Layer: {name}\")\n",
    "#        print(module.weight)"
   ]
  },
  {
   "cell_type": "code",
   "execution_count": 33,
   "metadata": {},
   "outputs": [],
   "source": [
    "with open('../model/modified_LeNet.pkl', 'wb') as file:\n",
    "    pickle.dump(model, file)"
   ]
  }
 ],
 "metadata": {
  "kaggle": {
   "accelerator": "none",
   "dataSources": [
    {
     "datasetId": 6273002,
     "sourceId": 10159297,
     "sourceType": "datasetVersion"
    }
   ],
   "dockerImageVersionId": 30804,
   "isGpuEnabled": false,
   "isInternetEnabled": false,
   "language": "python",
   "sourceType": "notebook"
  },
  "kernelspec": {
   "display_name": "Python 3 (ipykernel)",
   "language": "python",
   "name": "python3"
  },
  "language_info": {
   "codemirror_mode": {
    "name": "ipython",
    "version": 3
   },
   "file_extension": ".py",
   "mimetype": "text/x-python",
   "name": "python",
   "nbconvert_exporter": "python",
   "pygments_lexer": "ipython3",
   "version": "3.12.8"
  }
 },
 "nbformat": 4,
 "nbformat_minor": 4
}
